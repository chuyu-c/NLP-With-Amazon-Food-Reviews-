{
 "cells": [
  {
   "cell_type": "code",
   "execution_count": 1,
   "metadata": {},
   "outputs": [],
   "source": [
    "import sys\n",
    "import os\n",
    "import json\n",
    "import pandas\n",
    "import numpy as np\n",
    "import optparse\n",
    "import keras\n",
    "import tensorflow as tf\n",
    "import matplotlib.pyplot as plt\n",
    "plt.style.use('ggplot')\n",
    "from keras.callbacks import TensorBoard\n",
    "from keras.models import Sequential, load_model\n",
    "from keras.layers import LSTM, Dense, Dropout, Flatten, SimpleRNN, SpatialDropout1D, ActivityRegularization\n",
    "from keras.layers.embeddings import Embedding\n",
    "from keras.preprocessing import sequence\n",
    "from keras.preprocessing.text import Tokenizer\n",
    "from collections import OrderedDict\n",
    "from sklearn.preprocessing import StandardScaler\n",
    "from sklearn.preprocessing import MinMaxScaler\n",
    "\n",
    "from sklearn.model_selection import train_test_split\n",
    "from random import sample\n",
    "import re\n",
    "from tensorflow.keras.optimizers import SGD\n",
    "\n",
    "import nltk\n",
    "# nltk.download('stopwords')\n",
    "from nltk.corpus import stopwords \n",
    "\n",
    "from sklearn.model_selection import GridSearchCV\n",
    "from sklearn.ensemble import RandomForestClassifier\n",
    "from sklearn.ensemble import GradientBoostingClassifier\n",
    "\n",
    "from sklearn.metrics import fbeta_score, make_scorer\n",
    "from sklearn.metrics import accuracy_score\n",
    "from sklearn.metrics import precision_score\n",
    "from sklearn.metrics import recall_score\n",
    "from sklearn.metrics import f1_score\n",
    "from sklearn.metrics import confusion_matrix, classification_report, roc_auc_score"
   ]
  },
  {
   "cell_type": "code",
   "execution_count": 3,
   "metadata": {},
   "outputs": [],
   "source": [
    "# Import dataset\n",
    "dataframe = pandas.read_csv(\"data_1w.csv\", engine='python')"
   ]
  },
  {
   "cell_type": "code",
   "execution_count": 4,
   "metadata": {},
   "outputs": [
    {
     "data": {
      "text/html": [
       "<div>\n",
       "<style scoped>\n",
       "    .dataframe tbody tr th:only-of-type {\n",
       "        vertical-align: middle;\n",
       "    }\n",
       "\n",
       "    .dataframe tbody tr th {\n",
       "        vertical-align: top;\n",
       "    }\n",
       "\n",
       "    .dataframe thead th {\n",
       "        text-align: right;\n",
       "    }\n",
       "</style>\n",
       "<table border=\"1\" class=\"dataframe\">\n",
       "  <thead>\n",
       "    <tr style=\"text-align: right;\">\n",
       "      <th></th>\n",
       "      <th>Unnamed: 0</th>\n",
       "      <th>0</th>\n",
       "      <th>1</th>\n",
       "      <th>2</th>\n",
       "      <th>3</th>\n",
       "      <th>4</th>\n",
       "      <th>5</th>\n",
       "      <th>6</th>\n",
       "      <th>7</th>\n",
       "      <th>8</th>\n",
       "      <th>...</th>\n",
       "      <th>1016</th>\n",
       "      <th>1017</th>\n",
       "      <th>1018</th>\n",
       "      <th>1019</th>\n",
       "      <th>1020</th>\n",
       "      <th>1021</th>\n",
       "      <th>1022</th>\n",
       "      <th>1023</th>\n",
       "      <th>Score</th>\n",
       "      <th>Label</th>\n",
       "    </tr>\n",
       "  </thead>\n",
       "  <tbody>\n",
       "    <tr>\n",
       "      <th>0</th>\n",
       "      <td>0</td>\n",
       "      <td>0</td>\n",
       "      <td>0</td>\n",
       "      <td>0</td>\n",
       "      <td>0</td>\n",
       "      <td>0</td>\n",
       "      <td>0</td>\n",
       "      <td>0</td>\n",
       "      <td>0</td>\n",
       "      <td>0</td>\n",
       "      <td>...</td>\n",
       "      <td>191</td>\n",
       "      <td>213</td>\n",
       "      <td>64</td>\n",
       "      <td>343</td>\n",
       "      <td>213</td>\n",
       "      <td>64</td>\n",
       "      <td>3026</td>\n",
       "      <td>753</td>\n",
       "      <td>1</td>\n",
       "      <td>0</td>\n",
       "    </tr>\n",
       "    <tr>\n",
       "      <th>1</th>\n",
       "      <td>1</td>\n",
       "      <td>0</td>\n",
       "      <td>0</td>\n",
       "      <td>0</td>\n",
       "      <td>0</td>\n",
       "      <td>0</td>\n",
       "      <td>0</td>\n",
       "      <td>0</td>\n",
       "      <td>0</td>\n",
       "      <td>0</td>\n",
       "      <td>...</td>\n",
       "      <td>316</td>\n",
       "      <td>24</td>\n",
       "      <td>702</td>\n",
       "      <td>18</td>\n",
       "      <td>277</td>\n",
       "      <td>149</td>\n",
       "      <td>363</td>\n",
       "      <td>1674</td>\n",
       "      <td>1</td>\n",
       "      <td>0</td>\n",
       "    </tr>\n",
       "    <tr>\n",
       "      <th>2</th>\n",
       "      <td>2</td>\n",
       "      <td>0</td>\n",
       "      <td>0</td>\n",
       "      <td>0</td>\n",
       "      <td>0</td>\n",
       "      <td>0</td>\n",
       "      <td>0</td>\n",
       "      <td>0</td>\n",
       "      <td>0</td>\n",
       "      <td>0</td>\n",
       "      <td>...</td>\n",
       "      <td>696</td>\n",
       "      <td>223</td>\n",
       "      <td>106</td>\n",
       "      <td>532</td>\n",
       "      <td>495</td>\n",
       "      <td>16</td>\n",
       "      <td>1062</td>\n",
       "      <td>2018</td>\n",
       "      <td>1</td>\n",
       "      <td>0</td>\n",
       "    </tr>\n",
       "    <tr>\n",
       "      <th>3</th>\n",
       "      <td>3</td>\n",
       "      <td>0</td>\n",
       "      <td>0</td>\n",
       "      <td>0</td>\n",
       "      <td>0</td>\n",
       "      <td>0</td>\n",
       "      <td>0</td>\n",
       "      <td>0</td>\n",
       "      <td>0</td>\n",
       "      <td>0</td>\n",
       "      <td>...</td>\n",
       "      <td>18</td>\n",
       "      <td>59</td>\n",
       "      <td>199</td>\n",
       "      <td>287</td>\n",
       "      <td>298</td>\n",
       "      <td>1</td>\n",
       "      <td>726</td>\n",
       "      <td>484</td>\n",
       "      <td>1</td>\n",
       "      <td>0</td>\n",
       "    </tr>\n",
       "    <tr>\n",
       "      <th>4</th>\n",
       "      <td>4</td>\n",
       "      <td>0</td>\n",
       "      <td>0</td>\n",
       "      <td>0</td>\n",
       "      <td>0</td>\n",
       "      <td>0</td>\n",
       "      <td>0</td>\n",
       "      <td>0</td>\n",
       "      <td>0</td>\n",
       "      <td>0</td>\n",
       "      <td>...</td>\n",
       "      <td>3507</td>\n",
       "      <td>128</td>\n",
       "      <td>10</td>\n",
       "      <td>73</td>\n",
       "      <td>507</td>\n",
       "      <td>562</td>\n",
       "      <td>277</td>\n",
       "      <td>149</td>\n",
       "      <td>1</td>\n",
       "      <td>0</td>\n",
       "    </tr>\n",
       "  </tbody>\n",
       "</table>\n",
       "<p>5 rows × 1027 columns</p>\n",
       "</div>"
      ],
      "text/plain": [
       "   Unnamed: 0  0  1  2  3  4  5  6  7  8  ...  1016  1017  1018  1019  1020  \\\n",
       "0           0  0  0  0  0  0  0  0  0  0  ...   191   213    64   343   213   \n",
       "1           1  0  0  0  0  0  0  0  0  0  ...   316    24   702    18   277   \n",
       "2           2  0  0  0  0  0  0  0  0  0  ...   696   223   106   532   495   \n",
       "3           3  0  0  0  0  0  0  0  0  0  ...    18    59   199   287   298   \n",
       "4           4  0  0  0  0  0  0  0  0  0  ...  3507   128    10    73   507   \n",
       "\n",
       "   1021  1022  1023  Score  Label  \n",
       "0    64  3026   753      1      0  \n",
       "1   149   363  1674      1      0  \n",
       "2    16  1062  2018      1      0  \n",
       "3     1   726   484      1      0  \n",
       "4   562   277   149      1      0  \n",
       "\n",
       "[5 rows x 1027 columns]"
      ]
     },
     "execution_count": 4,
     "metadata": {},
     "output_type": "execute_result"
    }
   ],
   "source": [
    "dataframe.head(5)"
   ]
  },
  {
   "cell_type": "code",
   "execution_count": 5,
   "metadata": {},
   "outputs": [
    {
     "data": {
      "text/plain": [
       "array([[    0,     0,     0, ...,    64,  3026,   753],\n",
       "       [    0,     0,     0, ...,   149,   363,  1674],\n",
       "       [    0,     0,     0, ...,    16,  1062,  2018],\n",
       "       ...,\n",
       "       [    0,     0,     0, ...,    16,    45,   318],\n",
       "       [    0,     0,     0, ...,     6,   134, 18865],\n",
       "       [    0,     0,     0, ...,   782,   418,   514]])"
      ]
     },
     "execution_count": 5,
     "metadata": {},
     "output_type": "execute_result"
    }
   ],
   "source": [
    "dataframe.iloc[:, 1:-2].values"
   ]
  },
  {
   "cell_type": "code",
   "execution_count": 6,
   "metadata": {},
   "outputs": [],
   "source": [
    "data = dataframe.iloc[:, 1:-2].values\n",
    "y_label = dataframe['Label'].values\n",
    "y_score = dataframe['Score'].values\n",
    "y_score = y_score - 1"
   ]
  },
  {
   "cell_type": "code",
   "execution_count": 7,
   "metadata": {},
   "outputs": [],
   "source": [
    "# split 80% train and 20% test data\n",
    "X_train, X_test, y_train, y_test = train_test_split(data, y_label, test_size=0.2, random_state=42)"
   ]
  },
  {
   "cell_type": "markdown",
   "metadata": {},
   "source": [
    "## Build Model"
   ]
  },
  {
   "cell_type": "markdown",
   "metadata": {},
   "source": [
    "### Random Forest W Grid Search"
   ]
  },
  {
   "cell_type": "code",
   "execution_count": 8,
   "metadata": {},
   "outputs": [],
   "source": [
    "# build a base model using Random Forest with Grid Search\n",
    "param = {'n_estimators': [50, 100, 200, 500], 'max_features': [2, 4, 'sqrt'], 'max_depth': [8, 10, 12, 16], \n",
    "         'random_state': [42]}\n",
    "\n",
    "#scoring = {'accuracy': make_scorer(accuracy_score),\n",
    "           #'precision': make_scorer(precision_score, average = 'macro'),\n",
    "           #'recall': make_scorer(recall_score, average = 'macro'),\n",
    "           #'f1_macro': make_scorer(f1_score, average = 'macro'),\n",
    "           #'f1_weighted': make_scorer(f1_score, average = 'weighted')}\n",
    "                                   \n",
    "rf_model = RandomForestClassifier()\n",
    "rf_grid = GridSearchCV(rf_model, param, cv = 5, refit = True, scoring='accuracy', n_jobs=-1, verbose=5)"
   ]
  },
  {
   "cell_type": "code",
   "execution_count": 9,
   "metadata": {},
   "outputs": [
    {
     "name": "stdout",
     "output_type": "stream",
     "text": [
      "Fitting 5 folds for each of 48 candidates, totalling 240 fits\n"
     ]
    },
    {
     "data": {
      "text/plain": [
       "GridSearchCV(cv=5, estimator=RandomForestClassifier(), n_jobs=-1,\n",
       "             param_grid={'max_depth': [8, 10, 12, 16],\n",
       "                         'max_features': [2, 4, 'sqrt'],\n",
       "                         'n_estimators': [50, 100, 200, 500],\n",
       "                         'random_state': [42]},\n",
       "             scoring='accuracy', verbose=5)"
      ]
     },
     "execution_count": 9,
     "metadata": {},
     "output_type": "execute_result"
    }
   ],
   "source": [
    "rf_grid.fit(X_train, y_train)"
   ]
  },
  {
   "cell_type": "code",
   "execution_count": 10,
   "metadata": {},
   "outputs": [
    {
     "name": "stdout",
     "output_type": "stream",
     "text": [
      "Best Parameters: \n",
      " {'max_depth': 16, 'max_features': 'sqrt', 'n_estimators': 500, 'random_state': 42}\n"
     ]
    }
   ],
   "source": [
    "print('Best Parameters: \\n', rf_grid.best_params_)"
   ]
  },
  {
   "cell_type": "code",
   "execution_count": 11,
   "metadata": {},
   "outputs": [],
   "source": [
    "best_model = rf_grid.best_estimator_\n",
    "grid_class = best_model.predict(X_test)"
   ]
  },
  {
   "cell_type": "code",
   "execution_count": 12,
   "metadata": {},
   "outputs": [
    {
     "name": "stdout",
     "output_type": "stream",
     "text": [
      "test_result: \n",
      "               precision    recall  f1-score   support\n",
      "\n",
      "           0       0.62      0.99      0.76      1012\n",
      "           1       0.97      0.38      0.55       988\n",
      "\n",
      "    accuracy                           0.69      2000\n",
      "   macro avg       0.80      0.68      0.65      2000\n",
      "weighted avg       0.80      0.69      0.66      2000\n",
      "\n"
     ]
    }
   ],
   "source": [
    "grid_report = classification_report(y_test, grid_class)\n",
    "print('test_result: \\n',grid_report)"
   ]
  },
  {
   "cell_type": "code",
   "execution_count": 13,
   "metadata": {},
   "outputs": [],
   "source": [
    "grid_train = best_model.predict(X_train)"
   ]
  },
  {
   "cell_type": "code",
   "execution_count": 14,
   "metadata": {},
   "outputs": [
    {
     "name": "stdout",
     "output_type": "stream",
     "text": [
      "train_result: \n",
      "               precision    recall  f1-score   support\n",
      "\n",
      "           0       0.64      1.00      0.78      3988\n",
      "           1       1.00      0.43      0.61      4012\n",
      "\n",
      "    accuracy                           0.72      8000\n",
      "   macro avg       0.82      0.72      0.69      8000\n",
      "weighted avg       0.82      0.72      0.69      8000\n",
      "\n"
     ]
    }
   ],
   "source": [
    "grid_report_train = classification_report(y_train, grid_train)\n",
    "print('train_result: \\n',grid_report_train)"
   ]
  },
  {
   "cell_type": "code",
   "execution_count": 15,
   "metadata": {},
   "outputs": [
    {
     "data": {
      "text/plain": [
       "RandomForestClassifier(max_depth=6, max_features=200, n_estimators=120,\n",
       "                       random_state=42)"
      ]
     },
     "execution_count": 15,
     "metadata": {},
     "output_type": "execute_result"
    }
   ],
   "source": [
    "rf_model_2 = RandomForestClassifier(max_depth=6, max_features=200, n_estimators=120, random_state=42)\n",
    "rf_model_2.fit(X_train, y_train)"
   ]
  },
  {
   "cell_type": "code",
   "execution_count": 16,
   "metadata": {},
   "outputs": [],
   "source": [
    "rf_class = rf_model_2.predict(X_test)"
   ]
  },
  {
   "cell_type": "code",
   "execution_count": 17,
   "metadata": {},
   "outputs": [
    {
     "name": "stdout",
     "output_type": "stream",
     "text": [
      "test_result: \n",
      "               precision    recall  f1-score   support\n",
      "\n",
      "           0       0.58      1.00      0.73      1012\n",
      "           1       1.00      0.25      0.40       988\n",
      "\n",
      "    accuracy                           0.63      2000\n",
      "   macro avg       0.79      0.62      0.56      2000\n",
      "weighted avg       0.79      0.63      0.57      2000\n",
      "\n"
     ]
    }
   ],
   "source": [
    "rf_report = classification_report(y_test, rf_class)\n",
    "print('test_result: \\n',rf_report)"
   ]
  },
  {
   "cell_type": "code",
   "execution_count": 18,
   "metadata": {},
   "outputs": [],
   "source": [
    "rf_class_train = rf_model_2.predict(X_train)"
   ]
  },
  {
   "cell_type": "code",
   "execution_count": 19,
   "metadata": {},
   "outputs": [
    {
     "name": "stdout",
     "output_type": "stream",
     "text": [
      "test_result: \n",
      "               precision    recall  f1-score   support\n",
      "\n",
      "           0       0.58      1.00      0.74      3988\n",
      "           1       1.00      0.29      0.45      4012\n",
      "\n",
      "    accuracy                           0.64      8000\n",
      "   macro avg       0.79      0.64      0.59      8000\n",
      "weighted avg       0.79      0.64      0.59      8000\n",
      "\n"
     ]
    }
   ],
   "source": [
    "rf_report_train = classification_report(y_train, rf_class_train)\n",
    "print('test_result: \\n',rf_report_train)"
   ]
  },
  {
   "cell_type": "markdown",
   "metadata": {},
   "source": [
    "reduce max_depth, reduce n_estimators, increase max features. Not Overfitting now."
   ]
  },
  {
   "cell_type": "markdown",
   "metadata": {},
   "source": [
    "### Gradient Boosting Classifier W GridSearch"
   ]
  },
  {
   "cell_type": "code",
   "execution_count": 20,
   "metadata": {},
   "outputs": [],
   "source": [
    "param_gradient = {'n_estimators': [50, 100], \n",
    "                  'learning_rate': [0.4, 0.8], \n",
    "                  'max_depth': [2, 4],\n",
    "                  'random_state': [42]}\n",
    "\n",
    "gb_boost = GradientBoostingClassifier()\n",
    "gb_grid = GridSearchCV(gb_boost, param_gradient, cv = 5, scoring='accuracy', refit='True', n_jobs=-1, verbose=5)"
   ]
  },
  {
   "cell_type": "code",
   "execution_count": 21,
   "metadata": {},
   "outputs": [
    {
     "name": "stdout",
     "output_type": "stream",
     "text": [
      "Fitting 5 folds for each of 8 candidates, totalling 40 fits\n"
     ]
    },
    {
     "data": {
      "text/plain": [
       "GridSearchCV(cv=5, estimator=GradientBoostingClassifier(), n_jobs=-1,\n",
       "             param_grid={'learning_rate': [0.4, 0.8], 'max_depth': [2, 4],\n",
       "                         'n_estimators': [50, 100], 'random_state': [42]},\n",
       "             refit='True', scoring='accuracy', verbose=5)"
      ]
     },
     "execution_count": 21,
     "metadata": {},
     "output_type": "execute_result"
    }
   ],
   "source": [
    "gb_grid.fit(X_train, y_train)"
   ]
  },
  {
   "cell_type": "code",
   "execution_count": 22,
   "metadata": {},
   "outputs": [
    {
     "name": "stdout",
     "output_type": "stream",
     "text": [
      "Best Parameters: \n",
      " {'learning_rate': 0.4, 'max_depth': 4, 'n_estimators': 100, 'random_state': 42}\n"
     ]
    }
   ],
   "source": [
    "print('Best Parameters: \\n', gb_grid.best_params_)"
   ]
  },
  {
   "cell_type": "code",
   "execution_count": 23,
   "metadata": {},
   "outputs": [],
   "source": [
    "best_gb = gb_grid.best_estimator_\n",
    "gb_class = best_gb.predict(X_test)"
   ]
  },
  {
   "cell_type": "code",
   "execution_count": 24,
   "metadata": {},
   "outputs": [
    {
     "name": "stdout",
     "output_type": "stream",
     "text": [
      "test_result: \n",
      "               precision    recall  f1-score   support\n",
      "\n",
      "           0       0.73      0.80      0.76      1012\n",
      "           1       0.77      0.69      0.73       988\n",
      "\n",
      "    accuracy                           0.74      2000\n",
      "   macro avg       0.75      0.74      0.74      2000\n",
      "weighted avg       0.75      0.74      0.74      2000\n",
      "\n"
     ]
    }
   ],
   "source": [
    "gb_report = classification_report(y_test, gb_class)\n",
    "print('test_result: \\n', gb_report)"
   ]
  },
  {
   "cell_type": "code",
   "execution_count": 25,
   "metadata": {},
   "outputs": [],
   "source": [
    "gb_train = best_gb.predict(X_train)"
   ]
  },
  {
   "cell_type": "code",
   "execution_count": 26,
   "metadata": {},
   "outputs": [
    {
     "name": "stdout",
     "output_type": "stream",
     "text": [
      "test_result: \n",
      "               precision    recall  f1-score   support\n",
      "\n",
      "           0       0.84      0.89      0.86      3988\n",
      "           1       0.88      0.84      0.86      4012\n",
      "\n",
      "    accuracy                           0.86      8000\n",
      "   macro avg       0.86      0.86      0.86      8000\n",
      "weighted avg       0.86      0.86      0.86      8000\n",
      "\n"
     ]
    }
   ],
   "source": [
    "gb_report_train = classification_report(y_train, gb_train)\n",
    "print('test_result: \\n', gb_report_train)"
   ]
  },
  {
   "cell_type": "code",
   "execution_count": 27,
   "metadata": {},
   "outputs": [
    {
     "data": {
      "text/plain": [
       "GradientBoostingClassifier(learning_rate=0.2, max_depth=2, random_state=42)"
      ]
     },
     "execution_count": 27,
     "metadata": {},
     "output_type": "execute_result"
    }
   ],
   "source": [
    "gb_model = GradientBoostingClassifier(learning_rate=0.2, max_depth=2, n_estimators=100, random_state=42)\n",
    "gb_model.fit(X_train, y_train)"
   ]
  },
  {
   "cell_type": "code",
   "execution_count": 28,
   "metadata": {},
   "outputs": [],
   "source": [
    "gb_test = gb_model.predict(X_test)"
   ]
  },
  {
   "cell_type": "code",
   "execution_count": 29,
   "metadata": {},
   "outputs": [
    {
     "name": "stdout",
     "output_type": "stream",
     "text": [
      "test_result: \n",
      "               precision    recall  f1-score   support\n",
      "\n",
      "           0       0.67      0.84      0.74      1012\n",
      "           1       0.78      0.57      0.66       988\n",
      "\n",
      "    accuracy                           0.71      2000\n",
      "   macro avg       0.72      0.70      0.70      2000\n",
      "weighted avg       0.72      0.71      0.70      2000\n",
      "\n"
     ]
    }
   ],
   "source": [
    "gb_report_test = classification_report(y_test, gb_test)\n",
    "print('test_result: \\n', gb_report_test)"
   ]
  },
  {
   "cell_type": "code",
   "execution_count": 30,
   "metadata": {},
   "outputs": [],
   "source": [
    "gb_train_2 = gb_model.predict(X_train)"
   ]
  },
  {
   "cell_type": "code",
   "execution_count": 31,
   "metadata": {},
   "outputs": [
    {
     "name": "stdout",
     "output_type": "stream",
     "text": [
      "train_result: \n",
      "               precision    recall  f1-score   support\n",
      "\n",
      "           0       0.69      0.86      0.76      3988\n",
      "           1       0.81      0.61      0.70      4012\n",
      "\n",
      "    accuracy                           0.73      8000\n",
      "   macro avg       0.75      0.74      0.73      8000\n",
      "weighted avg       0.75      0.73      0.73      8000\n",
      "\n"
     ]
    }
   ],
   "source": [
    "gb_report_train2 = classification_report(y_train, gb_train_2)\n",
    "print('train_result: \\n', gb_report_train2)"
   ]
  },
  {
   "cell_type": "markdown",
   "metadata": {},
   "source": [
    "### LSTM"
   ]
  },
  {
   "cell_type": "code",
   "execution_count": 32,
   "metadata": {},
   "outputs": [],
   "source": [
    "def plot_history(history):\n",
    "    acc = history.history['accuracy']\n",
    "    val_acc = history.history['val_accuracy']\n",
    "    loss = history.history['loss']\n",
    "    val_loss = history.history['val_loss']\n",
    "    x = range(1, len(acc) + 1)\n",
    "\n",
    "    plt.figure(figsize=(12, 5))\n",
    "    plt.subplot(1, 2, 1)\n",
    "    plt.plot(x, acc, 'b', label='Training acc')\n",
    "    plt.plot(x, val_acc, 'r', label='Validation acc')\n",
    "    plt.title('Training and validation accuracy')\n",
    "    plt.legend()\n",
    "    plt.subplot(1, 2, 2)\n",
    "    plt.plot(x, loss, 'b', label='Training loss')\n",
    "    plt.plot(x, val_loss, 'r', label='Validation loss')\n",
    "    plt.title('Training and validation loss')\n",
    "    plt.legend()"
   ]
  },
  {
   "cell_type": "code",
   "execution_count": 33,
   "metadata": {},
   "outputs": [
    {
     "name": "stdout",
     "output_type": "stream",
     "text": [
      "Model: \"sequential\"\n",
      "_________________________________________________________________\n",
      "Layer (type)                 Output Shape              Param #   \n",
      "=================================================================\n",
      "embedding (Embedding)        (None, 2048, 64)          1207424   \n",
      "_________________________________________________________________\n",
      "lstm (LSTM)                  (None, 64)                33024     \n",
      "_________________________________________________________________\n",
      "dense (Dense)                (None, 1)                 65        \n",
      "=================================================================\n",
      "Total params: 1,240,513\n",
      "Trainable params: 1,240,513\n",
      "Non-trainable params: 0\n",
      "_________________________________________________________________\n"
     ]
    }
   ],
   "source": [
    "#### Base Model\n",
    "\n",
    "m_1 = Sequential()\n",
    "m_1.add(Embedding(input_dim = 18866, output_dim = 64, input_length = 2048))\n",
    "m_1.add(LSTM(units = 64, recurrent_dropout = 0.5))\n",
    "m_1.add(Dense(units = 1, activation = 'sigmoid'))\n",
    "m_1.compile(loss = \"binary_crossentropy\", optimizer = \"adam\", metrics = ['accuracy'])\n",
    "m_1.summary()"
   ]
  },
  {
   "cell_type": "code",
   "execution_count": 34,
   "metadata": {},
   "outputs": [],
   "source": [
    "# split 80% train and 20% test data\n",
    "X_train, X_test, y_train, y_test = train_test_split(data, y_label, test_size=0.2, random_state=42)"
   ]
  },
  {
   "cell_type": "code",
   "execution_count": 35,
   "metadata": {},
   "outputs": [
    {
     "name": "stdout",
     "output_type": "stream",
     "text": [
      "Epoch 1/10\n",
      "WARNING:tensorflow:Model was constructed with shape (None, 2048) for input KerasTensor(type_spec=TensorSpec(shape=(None, 2048), dtype=tf.float32, name='embedding_input'), name='embedding_input', description=\"created by layer 'embedding_input'\"), but it was called on an input with incompatible shape (None, 1024).\n",
      "WARNING:tensorflow:Model was constructed with shape (None, 2048) for input KerasTensor(type_spec=TensorSpec(shape=(None, 2048), dtype=tf.float32, name='embedding_input'), name='embedding_input', description=\"created by layer 'embedding_input'\"), but it was called on an input with incompatible shape (None, 1024).\n",
      "63/63 [==============================] - ETA: 0s - loss: 0.6660 - accuracy: 0.6087WARNING:tensorflow:Model was constructed with shape (None, 2048) for input KerasTensor(type_spec=TensorSpec(shape=(None, 2048), dtype=tf.float32, name='embedding_input'), name='embedding_input', description=\"created by layer 'embedding_input'\"), but it was called on an input with incompatible shape (None, 1024).\n",
      "63/63 [==============================] - 116s 1s/step - loss: 0.6650 - accuracy: 0.6101 - val_loss: 0.4275 - val_accuracy: 0.8140\n",
      "Epoch 2/10\n",
      "63/63 [==============================] - 86s 1s/step - loss: 0.3394 - accuracy: 0.8637 - val_loss: 0.3945 - val_accuracy: 0.8235\n",
      "Epoch 3/10\n",
      "63/63 [==============================] - 84s 1s/step - loss: 0.2331 - accuracy: 0.9187 - val_loss: 0.4326 - val_accuracy: 0.8250\n",
      "Epoch 4/10\n",
      "63/63 [==============================] - 84s 1s/step - loss: 0.1556 - accuracy: 0.9500 - val_loss: 0.5302 - val_accuracy: 0.8195\n",
      "Epoch 5/10\n",
      "63/63 [==============================] - 86s 1s/step - loss: 0.1144 - accuracy: 0.9625 - val_loss: 0.6525 - val_accuracy: 0.7995\n",
      "Epoch 6/10\n",
      "63/63 [==============================] - 86s 1s/step - loss: 0.0861 - accuracy: 0.9748 - val_loss: 0.6898 - val_accuracy: 0.7995\n",
      "Epoch 7/10\n",
      "63/63 [==============================] - 84s 1s/step - loss: 0.0694 - accuracy: 0.9786 - val_loss: 0.6676 - val_accuracy: 0.8015\n",
      "Epoch 8/10\n",
      "63/63 [==============================] - 86s 1s/step - loss: 0.0528 - accuracy: 0.9844 - val_loss: 0.7391 - val_accuracy: 0.7865\n",
      "Epoch 9/10\n",
      "63/63 [==============================] - 95s 2s/step - loss: 0.0558 - accuracy: 0.9843 - val_loss: 0.8156 - val_accuracy: 0.7855\n",
      "Epoch 10/10\n",
      "63/63 [==============================] - 86s 1s/step - loss: 0.0405 - accuracy: 0.9908 - val_loss: 0.9600 - val_accuracy: 0.7785\n"
     ]
    }
   ],
   "source": [
    "h_1 = m_1.fit(X_train, y_train, validation_data=(X_test, y_test), epochs=10, batch_size=128)"
   ]
  },
  {
   "cell_type": "code",
   "execution_count": 36,
   "metadata": {},
   "outputs": [
    {
     "data": {
      "image/png": "[encoded data removed]",
      "text/plain": [
       "<Figure size 864x360 with 2 Axes>"
      ]
     },
     "metadata": {},
     "output_type": "display_data"
    }
   ],
   "source": [
    "plot_history(h_1)"
   ]
  },
  {
   "cell_type": "code",
   "execution_count": 37,
   "metadata": {},
   "outputs": [
    {
     "name": "stdout",
     "output_type": "stream",
     "text": [
      "Model: \"sequential_1\"\n",
      "_________________________________________________________________\n",
      "Layer (type)                 Output Shape              Param #   \n",
      "=================================================================\n",
      "embedding_1 (Embedding)      (None, 2048, 64)          1207424   \n",
      "_________________________________________________________________\n",
      "spatial_dropout1d (SpatialDr (None, 2048, 64)          0         \n",
      "_________________________________________________________________\n",
      "lstm_1 (LSTM)                (None, 64)                33024     \n",
      "_________________________________________________________________\n",
      "dropout (Dropout)            (None, 64)                0         \n",
      "_________________________________________________________________\n",
      "dense_1 (Dense)              (None, 1)                 65        \n",
      "=================================================================\n",
      "Total params: 1,240,513\n",
      "Trainable params: 1,240,513\n",
      "Non-trainable params: 0\n",
      "_________________________________________________________________\n"
     ]
    }
   ],
   "source": [
    "\n",
    "### Second Model with dropout\n",
    "m_2 = Sequential()\n",
    "m_2.add(Embedding(input_dim = 18866, output_dim = 64, input_length = 2048))\n",
    "m_2.add(SpatialDropout1D(0.2))\n",
    "m_2.add(LSTM(units = 64, recurrent_dropout = 0.5))\n",
    "m_2.add(Dropout(0.2))\n",
    "m_2.add(Dense(units = 1, activation = 'sigmoid'))\n",
    "m_2.compile(loss = \"binary_crossentropy\", optimizer = \"adam\", metrics = ['accuracy'])\n",
    "m_2.summary()"
   ]
  },
  {
   "cell_type": "code",
   "execution_count": 38,
   "metadata": {},
   "outputs": [
    {
     "name": "stdout",
     "output_type": "stream",
     "text": [
      "Epoch 1/10\n",
      "WARNING:tensorflow:Model was constructed with shape (None, 2048) for input KerasTensor(type_spec=TensorSpec(shape=(None, 2048), dtype=tf.float32, name='embedding_1_input'), name='embedding_1_input', description=\"created by layer 'embedding_1_input'\"), but it was called on an input with incompatible shape (None, 1024).\n",
      "WARNING:tensorflow:Model was constructed with shape (None, 2048) for input KerasTensor(type_spec=TensorSpec(shape=(None, 2048), dtype=tf.float32, name='embedding_1_input'), name='embedding_1_input', description=\"created by layer 'embedding_1_input'\"), but it was called on an input with incompatible shape (None, 1024).\n",
      "63/63 [==============================] - ETA: 0s - loss: 0.6728 - accuracy: 0.5883WARNING:tensorflow:Model was constructed with shape (None, 2048) for input KerasTensor(type_spec=TensorSpec(shape=(None, 2048), dtype=tf.float32, name='embedding_1_input'), name='embedding_1_input', description=\"created by layer 'embedding_1_input'\"), but it was called on an input with incompatible shape (None, 1024).\n",
      "63/63 [==============================] - 106s 1s/step - loss: 0.6723 - accuracy: 0.5896 - val_loss: 0.5181 - val_accuracy: 0.7725\n",
      "Epoch 2/10\n",
      "63/63 [==============================] - 85s 1s/step - loss: 0.4123 - accuracy: 0.8236 - val_loss: 0.3859 - val_accuracy: 0.8300\n",
      "Epoch 3/10\n",
      "63/63 [==============================] - 86s 1s/step - loss: 0.2479 - accuracy: 0.9068 - val_loss: 0.4033 - val_accuracy: 0.8340\n",
      "Epoch 4/10\n",
      "63/63 [==============================] - 84s 1s/step - loss: 0.1727 - accuracy: 0.9413 - val_loss: 0.5069 - val_accuracy: 0.8270\n",
      "Epoch 5/10\n",
      "63/63 [==============================] - 84s 1s/step - loss: 0.1204 - accuracy: 0.9608 - val_loss: 0.5073 - val_accuracy: 0.8000\n",
      "Epoch 6/10\n",
      "63/63 [==============================] - 86s 1s/step - loss: 0.0904 - accuracy: 0.9739 - val_loss: 0.6550 - val_accuracy: 0.8030\n",
      "Epoch 7/10\n",
      "63/63 [==============================] - 105s 2s/step - loss: 0.0703 - accuracy: 0.9811 - val_loss: 0.7489 - val_accuracy: 0.7995\n",
      "Epoch 8/10\n",
      "63/63 [==============================] - 90s 1s/step - loss: 0.0491 - accuracy: 0.9851 - val_loss: 0.7356 - val_accuracy: 0.7870\n",
      "Epoch 9/10\n",
      "63/63 [==============================] - 87s 1s/step - loss: 0.0568 - accuracy: 0.9834 - val_loss: 0.8136 - val_accuracy: 0.7970\n",
      "Epoch 10/10\n",
      "63/63 [==============================] - 89s 1s/step - loss: 0.0470 - accuracy: 0.9853 - val_loss: 0.8027 - val_accuracy: 0.7930\n"
     ]
    }
   ],
   "source": [
    "h_2 = m_2.fit(X_train, y_train, validation_data=(X_test, y_test), epochs=10, batch_size=128)"
   ]
  },
  {
   "cell_type": "code",
   "execution_count": 39,
   "metadata": {},
   "outputs": [
    {
     "name": "stdout",
     "output_type": "stream",
     "text": [
      "WARNING:tensorflow:Model was constructed with shape (None, 2048) for input KerasTensor(type_spec=TensorSpec(shape=(None, 2048), dtype=tf.float32, name='embedding_1_input'), name='embedding_1_input', description=\"created by layer 'embedding_1_input'\"), but it was called on an input with incompatible shape (32, 1024).\n",
      "Training Accuracy: 0.9934\n",
      "Testing Accuracy:  0.7930\n"
     ]
    }
   ],
   "source": [
    "loss, accuracy = m_2.evaluate(X_train, y_train, verbose=False)\n",
    "print(\"Training Accuracy: {:.4f}\".format(accuracy))\n",
    "loss, accuracy = m_2.evaluate(X_test, y_test, verbose=False)\n",
    "print(\"Testing Accuracy:  {:.4f}\".format(accuracy))"
   ]
  },
  {
   "cell_type": "code",
   "execution_count": 40,
   "metadata": {},
   "outputs": [
    {
     "data": {
      "image/png": "[encoded data removed]",
      "text/plain": [
       "<Figure size 864x360 with 2 Axes>"
      ]
     },
     "metadata": {},
     "output_type": "display_data"
    }
   ],
   "source": [
    "plot_history(h_2)"
   ]
  },
  {
   "cell_type": "code",
   "execution_count": 41,
   "metadata": {},
   "outputs": [
    {
     "name": "stdout",
     "output_type": "stream",
     "text": [
      "Model: \"sequential_2\"\n",
      "_________________________________________________________________\n",
      "Layer (type)                 Output Shape              Param #   \n",
      "=================================================================\n",
      "embedding_2 (Embedding)      (None, 2048, 32)          603712    \n",
      "_________________________________________________________________\n",
      "spatial_dropout1d_1 (Spatial (None, 2048, 32)          0         \n",
      "_________________________________________________________________\n",
      "lstm_2 (LSTM)                (None, 32)                8320      \n",
      "_________________________________________________________________\n",
      "dropout_1 (Dropout)          (None, 32)                0         \n",
      "_________________________________________________________________\n",
      "dense_2 (Dense)              (None, 1)                 33        \n",
      "=================================================================\n",
      "Total params: 612,065\n",
      "Trainable params: 612,065\n",
      "Non-trainable params: 0\n",
      "_________________________________________________________________\n"
     ]
    }
   ],
   "source": [
    "### Third Model - less complex model higher dropout index\n",
    "\n",
    "m_3 = Sequential()\n",
    "m_3.add(Embedding(input_dim = 18866, output_dim = 32, input_length = 2048))\n",
    "m_3.add(SpatialDropout1D(0.5))\n",
    "m_3.add(LSTM(units = 32, recurrent_dropout = 0.5))\n",
    "m_3.add(Dropout(0.5))\n",
    "m_3.add(Dense(units = 1, activation = 'sigmoid'))\n",
    "m_3.compile(loss = \"binary_crossentropy\", optimizer = \"adam\", metrics = ['accuracy'])\n",
    "m_3.summary()"
   ]
  },
  {
   "cell_type": "code",
   "execution_count": 42,
   "metadata": {},
   "outputs": [],
   "source": [
    "# split 80% train and 20% test data\n",
    "X_train, X_test, y_train, y_test = train_test_split(data, y_label, test_size=0.2, random_state=42)"
   ]
  },
  {
   "cell_type": "code",
   "execution_count": 43,
   "metadata": {},
   "outputs": [
    {
     "name": "stdout",
     "output_type": "stream",
     "text": [
      "Epoch 1/10\n",
      "WARNING:tensorflow:Model was constructed with shape (None, 2048) for input KerasTensor(type_spec=TensorSpec(shape=(None, 2048), dtype=tf.float32, name='embedding_2_input'), name='embedding_2_input', description=\"created by layer 'embedding_2_input'\"), but it was called on an input with incompatible shape (None, 1024).\n",
      "WARNING:tensorflow:Model was constructed with shape (None, 2048) for input KerasTensor(type_spec=TensorSpec(shape=(None, 2048), dtype=tf.float32, name='embedding_2_input'), name='embedding_2_input', description=\"created by layer 'embedding_2_input'\"), but it was called on an input with incompatible shape (None, 1024).\n",
      "63/63 [==============================] - ETA: 0s - loss: 0.6900 - accuracy: 0.5349WARNING:tensorflow:Model was constructed with shape (None, 2048) for input KerasTensor(type_spec=TensorSpec(shape=(None, 2048), dtype=tf.float32, name='embedding_2_input'), name='embedding_2_input', description=\"created by layer 'embedding_2_input'\"), but it was called on an input with incompatible shape (None, 1024).\n",
      "63/63 [==============================] - 71s 1s/step - loss: 0.6898 - accuracy: 0.5356 - val_loss: 0.6159 - val_accuracy: 0.7290\n",
      "Epoch 2/10\n",
      "63/63 [==============================] - 54s 855ms/step - loss: 0.5386 - accuracy: 0.7740 - val_loss: 0.4152 - val_accuracy: 0.8285\n",
      "Epoch 3/10\n",
      "63/63 [==============================] - 53s 835ms/step - loss: 0.3755 - accuracy: 0.8495 - val_loss: 0.3888 - val_accuracy: 0.8330\n",
      "Epoch 4/10\n",
      "63/63 [==============================] - 57s 902ms/step - loss: 0.2915 - accuracy: 0.8938 - val_loss: 0.3915 - val_accuracy: 0.8315\n",
      "Epoch 5/10\n",
      "63/63 [==============================] - 57s 912ms/step - loss: 0.2376 - accuracy: 0.9172 - val_loss: 0.3956 - val_accuracy: 0.8270\n",
      "Epoch 6/10\n",
      "63/63 [==============================] - 55s 873ms/step - loss: 0.2012 - accuracy: 0.9303 - val_loss: 0.4613 - val_accuracy: 0.8280\n",
      "Epoch 7/10\n",
      "63/63 [==============================] - 53s 835ms/step - loss: 0.1689 - accuracy: 0.9420 - val_loss: 0.4534 - val_accuracy: 0.8200\n",
      "Epoch 8/10\n",
      "63/63 [==============================] - 53s 840ms/step - loss: 0.1444 - accuracy: 0.9549 - val_loss: 0.5531 - val_accuracy: 0.8180\n",
      "Epoch 9/10\n",
      "63/63 [==============================] - 54s 854ms/step - loss: 0.1230 - accuracy: 0.9603 - val_loss: 0.5927 - val_accuracy: 0.8150\n",
      "Epoch 10/10\n",
      "63/63 [==============================] - 53s 844ms/step - loss: 0.1058 - accuracy: 0.9701 - val_loss: 0.5891 - val_accuracy: 0.8120\n"
     ]
    }
   ],
   "source": [
    "h_3 = m_3.fit(X_train, y_train, validation_data=(X_test, y_test), epochs=10, batch_size=128)"
   ]
  },
  {
   "cell_type": "code",
   "execution_count": 44,
   "metadata": {},
   "outputs": [
    {
     "name": "stdout",
     "output_type": "stream",
     "text": [
      "WARNING:tensorflow:Model was constructed with shape (None, 2048) for input KerasTensor(type_spec=TensorSpec(shape=(None, 2048), dtype=tf.float32, name='embedding_2_input'), name='embedding_2_input', description=\"created by layer 'embedding_2_input'\"), but it was called on an input with incompatible shape (32, 1024).\n",
      "Training Accuracy: 0.9834\n",
      "Testing Accuracy:  0.8120\n"
     ]
    }
   ],
   "source": [
    "loss, accuracy = m_3.evaluate(X_train, y_train, verbose=False)\n",
    "print(\"Training Accuracy: {:.4f}\".format(accuracy))\n",
    "loss, accuracy = m_3.evaluate(X_test, y_test, verbose=False)\n",
    "print(\"Testing Accuracy:  {:.4f}\".format(accuracy))"
   ]
  },
  {
   "cell_type": "code",
   "execution_count": 45,
   "metadata": {},
   "outputs": [
    {
     "data": {
      "image/png": "[encoded data removed]",
      "text/plain": [
       "<Figure size 864x360 with 2 Axes>"
      ]
     },
     "metadata": {},
     "output_type": "display_data"
    }
   ],
   "source": [
    "plot_history(h_3)"
   ]
  },
  {
   "cell_type": "code",
   "execution_count": 46,
   "metadata": {},
   "outputs": [
    {
     "name": "stdout",
     "output_type": "stream",
     "text": [
      "Model: \"sequential_3\"\n",
      "_________________________________________________________________\n",
      "Layer (type)                 Output Shape              Param #   \n",
      "=================================================================\n",
      "embedding_3 (Embedding)      (None, 2048, 16)          301856    \n",
      "_________________________________________________________________\n",
      "spatial_dropout1d_2 (Spatial (None, 2048, 16)          0         \n",
      "_________________________________________________________________\n",
      "lstm_3 (LSTM)                (None, 16)                2112      \n",
      "_________________________________________________________________\n",
      "dropout_2 (Dropout)          (None, 16)                0         \n",
      "_________________________________________________________________\n",
      "dense_3 (Dense)              (None, 1)                 17        \n",
      "=================================================================\n",
      "Total params: 303,985\n",
      "Trainable params: 303,985\n",
      "Non-trainable params: 0\n",
      "_________________________________________________________________\n"
     ]
    }
   ],
   "source": [
    "### fourth Model\n",
    "\n",
    "m_4 = Sequential()\n",
    "m_4.add(Embedding(input_dim = 18866, output_dim = 16, input_length = 2048))\n",
    "m_4.add(SpatialDropout1D(0.5))\n",
    "m_4.add(LSTM(units = 16, recurrent_dropout = 0.5))\n",
    "m_4.add(Dropout(0.5))\n",
    "m_4.add(Dense(units = 1, activation = 'sigmoid'))\n",
    "m_4.compile(loss = \"binary_crossentropy\", optimizer = \"adam\", metrics = ['accuracy'])\n",
    "m_4.summary()"
   ]
  },
  {
   "cell_type": "code",
   "execution_count": 47,
   "metadata": {},
   "outputs": [],
   "source": [
    "# split 80% train and 20% test data\n",
    "X_train, X_test, y_train, y_test = train_test_split(data, y_label, test_size=0.2, random_state=42)"
   ]
  },
  {
   "cell_type": "code",
   "execution_count": 48,
   "metadata": {},
   "outputs": [
    {
     "name": "stdout",
     "output_type": "stream",
     "text": [
      "Epoch 1/10\n",
      "WARNING:tensorflow:Model was constructed with shape (None, 2048) for input KerasTensor(type_spec=TensorSpec(shape=(None, 2048), dtype=tf.float32, name='embedding_3_input'), name='embedding_3_input', description=\"created by layer 'embedding_3_input'\"), but it was called on an input with incompatible shape (None, 1024).\n",
      "WARNING:tensorflow:Model was constructed with shape (None, 2048) for input KerasTensor(type_spec=TensorSpec(shape=(None, 2048), dtype=tf.float32, name='embedding_3_input'), name='embedding_3_input', description=\"created by layer 'embedding_3_input'\"), but it was called on an input with incompatible shape (None, 1024).\n",
      "63/63 [==============================] - ETA: 0s - loss: 0.6923 - accuracy: 0.5177WARNING:tensorflow:Model was constructed with shape (None, 2048) for input KerasTensor(type_spec=TensorSpec(shape=(None, 2048), dtype=tf.float32, name='embedding_3_input'), name='embedding_3_input', description=\"created by layer 'embedding_3_input'\"), but it was called on an input with incompatible shape (None, 1024).\n",
      "63/63 [==============================] - 50s 721ms/step - loss: 0.6923 - accuracy: 0.5180 - val_loss: 0.6867 - val_accuracy: 0.6360\n",
      "Epoch 2/10\n",
      "63/63 [==============================] - 45s 713ms/step - loss: 0.6670 - accuracy: 0.6327 - val_loss: 0.5306 - val_accuracy: 0.7630\n",
      "Epoch 3/10\n",
      "63/63 [==============================] - 46s 732ms/step - loss: 0.4901 - accuracy: 0.8001 - val_loss: 0.4085 - val_accuracy: 0.8175\n",
      "Epoch 4/10\n",
      "63/63 [==============================] - 44s 699ms/step - loss: 0.3537 - accuracy: 0.8686 - val_loss: 0.3870 - val_accuracy: 0.8295\n",
      "Epoch 5/10\n",
      "63/63 [==============================] - 44s 700ms/step - loss: 0.3158 - accuracy: 0.8855 - val_loss: 0.3992 - val_accuracy: 0.8280\n",
      "Epoch 6/10\n",
      "63/63 [==============================] - 44s 697ms/step - loss: 0.2698 - accuracy: 0.9116 - val_loss: 0.4137 - val_accuracy: 0.8245\n",
      "Epoch 7/10\n",
      "63/63 [==============================] - 44s 706ms/step - loss: 0.2521 - accuracy: 0.9113 - val_loss: 0.4520 - val_accuracy: 0.8240\n",
      "Epoch 8/10\n",
      "63/63 [==============================] - 45s 719ms/step - loss: 0.1925 - accuracy: 0.9395 - val_loss: 0.4460 - val_accuracy: 0.8240\n",
      "Epoch 9/10\n",
      "63/63 [==============================] - 45s 714ms/step - loss: 0.1909 - accuracy: 0.9396 - val_loss: 0.4638 - val_accuracy: 0.8185\n",
      "Epoch 10/10\n",
      "63/63 [==============================] - 44s 696ms/step - loss: 0.1721 - accuracy: 0.9474 - val_loss: 0.5095 - val_accuracy: 0.8195\n"
     ]
    }
   ],
   "source": [
    "h_4 = m_4.fit(X_train, y_train, validation_data=(X_test, y_test), epochs=10, batch_size=128)"
   ]
  },
  {
   "cell_type": "code",
   "execution_count": 49,
   "metadata": {},
   "outputs": [
    {
     "name": "stdout",
     "output_type": "stream",
     "text": [
      "WARNING:tensorflow:Model was constructed with shape (None, 2048) for input KerasTensor(type_spec=TensorSpec(shape=(None, 2048), dtype=tf.float32, name='embedding_3_input'), name='embedding_3_input', description=\"created by layer 'embedding_3_input'\"), but it was called on an input with incompatible shape (32, 1024).\n",
      "Training Accuracy: 0.9697\n",
      "Testing Accuracy:  0.8195\n"
     ]
    }
   ],
   "source": [
    "loss, accuracy = m_4.evaluate(X_train, y_train, verbose=False)\n",
    "print(\"Training Accuracy: {:.4f}\".format(accuracy))\n",
    "loss, accuracy = m_4.evaluate(X_test, y_test, verbose=False)\n",
    "print(\"Testing Accuracy:  {:.4f}\".format(accuracy))"
   ]
  },
  {
   "cell_type": "code",
   "execution_count": 50,
   "metadata": {},
   "outputs": [
    {
     "data": {
      "image/png": "[encoded data removed]",
      "text/plain": [
       "<Figure size 864x360 with 2 Axes>"
      ]
     },
     "metadata": {},
     "output_type": "display_data"
    }
   ],
   "source": [
    "plot_history(h_4)"
   ]
  },
  {
   "cell_type": "code",
   "execution_count": 51,
   "metadata": {},
   "outputs": [
    {
     "name": "stdout",
     "output_type": "stream",
     "text": [
      "Model: \"sequential_4\"\n",
      "_________________________________________________________________\n",
      "Layer (type)                 Output Shape              Param #   \n",
      "=================================================================\n",
      "embedding_4 (Embedding)      (None, 2048, 32)          603712    \n",
      "_________________________________________________________________\n",
      "spatial_dropout1d_3 (Spatial (None, 2048, 32)          0         \n",
      "_________________________________________________________________\n",
      "simple_rnn (SimpleRNN)       (None, 32)                2080      \n",
      "_________________________________________________________________\n",
      "dropout_3 (Dropout)          (None, 32)                0         \n",
      "_________________________________________________________________\n",
      "dense_4 (Dense)              (None, 1)                 33        \n",
      "=================================================================\n",
      "Total params: 605,825\n",
      "Trainable params: 605,825\n",
      "Non-trainable params: 0\n",
      "_________________________________________________________________\n"
     ]
    }
   ],
   "source": [
    "# fifth model - simple RNN\n",
    "\n",
    "m_5 = Sequential()\n",
    "m_5.add(Embedding(input_dim = 18866, output_dim = 32, input_length = 2048))\n",
    "m_5.add(SpatialDropout1D(0.5))\n",
    "m_5.add(SimpleRNN(units = 32, activation = 'relu'))\n",
    "m_5.add(Dropout(0.5))\n",
    "m_5.add(Dense(units = 1, activation = 'sigmoid'))\n",
    "m_5.compile(loss = \"binary_crossentropy\", optimizer = \"adam\", metrics = ['accuracy'])\n",
    "m_5.summary()"
   ]
  },
  {
   "cell_type": "code",
   "execution_count": 52,
   "metadata": {},
   "outputs": [],
   "source": [
    "# split 80% train and 20% test data\n",
    "X_train, X_test, y_train, y_test = train_test_split(data, y_label, test_size=0.2, random_state=42)"
   ]
  },
  {
   "cell_type": "code",
   "execution_count": 53,
   "metadata": {},
   "outputs": [
    {
     "name": "stdout",
     "output_type": "stream",
     "text": [
      "Epoch 1/10\n",
      "WARNING:tensorflow:Model was constructed with shape (None, 2048) for input KerasTensor(type_spec=TensorSpec(shape=(None, 2048), dtype=tf.float32, name='embedding_4_input'), name='embedding_4_input', description=\"created by layer 'embedding_4_input'\"), but it was called on an input with incompatible shape (None, 1024).\n",
      "WARNING:tensorflow:Model was constructed with shape (None, 2048) for input KerasTensor(type_spec=TensorSpec(shape=(None, 2048), dtype=tf.float32, name='embedding_4_input'), name='embedding_4_input', description=\"created by layer 'embedding_4_input'\"), but it was called on an input with incompatible shape (None, 1024).\n",
      "63/63 [==============================] - ETA: 0s - loss: 0.6934 - accuracy: 0.4966WARNING:tensorflow:Model was constructed with shape (None, 2048) for input KerasTensor(type_spec=TensorSpec(shape=(None, 2048), dtype=tf.float32, name='embedding_4_input'), name='embedding_4_input', description=\"created by layer 'embedding_4_input'\"), but it was called on an input with incompatible shape (None, 1024).\n",
      "63/63 [==============================] - 21s 273ms/step - loss: 0.6934 - accuracy: 0.4968 - val_loss: 0.6895 - val_accuracy: 0.5625\n",
      "Epoch 2/10\n",
      "63/63 [==============================] - 20s 316ms/step - loss: 0.6863 - accuracy: 0.5624 - val_loss: 0.6739 - val_accuracy: 0.6335\n",
      "Epoch 3/10\n",
      "63/63 [==============================] - 18s 283ms/step - loss: 0.6287 - accuracy: 0.6798 - val_loss: 0.4861 - val_accuracy: 0.7840\n",
      "Epoch 4/10\n",
      "63/63 [==============================] - 16s 256ms/step - loss: 0.4386 - accuracy: 0.8184 - val_loss: 0.4004 - val_accuracy: 0.8180\n",
      "Epoch 5/10\n",
      "63/63 [==============================] - 16s 261ms/step - loss: 0.3344 - accuracy: 0.8745 - val_loss: 0.4029 - val_accuracy: 0.8190\n",
      "Epoch 6/10\n",
      "63/63 [==============================] - 16s 258ms/step - loss: 0.2820 - accuracy: 0.8990 - val_loss: 0.4124 - val_accuracy: 0.8235\n",
      "Epoch 7/10\n",
      "63/63 [==============================] - 16s 258ms/step - loss: 0.2071 - accuracy: 0.9268 - val_loss: 0.4580 - val_accuracy: 0.8150\n",
      "Epoch 8/10\n",
      "63/63 [==============================] - 16s 260ms/step - loss: 0.1908 - accuracy: 0.9355 - val_loss: 0.4648 - val_accuracy: 0.8155\n",
      "Epoch 9/10\n",
      "63/63 [==============================] - 17s 263ms/step - loss: 0.1498 - accuracy: 0.9489 - val_loss: 0.5234 - val_accuracy: 0.8165\n",
      "Epoch 10/10\n",
      "63/63 [==============================] - 16s 262ms/step - loss: 0.1405 - accuracy: 0.9544 - val_loss: 0.5098 - val_accuracy: 0.8155\n"
     ]
    }
   ],
   "source": [
    "h_5 = m_5.fit(X_train, y_train, validation_data=(X_test, y_test), epochs=10, batch_size=128)"
   ]
  },
  {
   "cell_type": "code",
   "execution_count": 54,
   "metadata": {},
   "outputs": [
    {
     "name": "stdout",
     "output_type": "stream",
     "text": [
      "WARNING:tensorflow:Model was constructed with shape (None, 2048) for input KerasTensor(type_spec=TensorSpec(shape=(None, 2048), dtype=tf.float32, name='embedding_4_input'), name='embedding_4_input', description=\"created by layer 'embedding_4_input'\"), but it was called on an input with incompatible shape (32, 1024).\n",
      "Training Accuracy: 0.9781\n",
      "Testing Accuracy:  0.8155\n"
     ]
    }
   ],
   "source": [
    "loss, accuracy = m_5.evaluate(X_train, y_train, verbose=False)\n",
    "print(\"Training Accuracy: {:.4f}\".format(accuracy))\n",
    "loss, accuracy = m_5.evaluate(X_test, y_test, verbose=False)\n",
    "print(\"Testing Accuracy:  {:.4f}\".format(accuracy))"
   ]
  },
  {
   "cell_type": "code",
   "execution_count": 55,
   "metadata": {},
   "outputs": [
    {
     "data": {
      "image/png": "[encoded data removed]",
      "text/plain": [
       "<Figure size 864x360 with 2 Axes>"
      ]
     },
     "metadata": {},
     "output_type": "display_data"
    }
   ],
   "source": [
    "plot_history(h_5)"
   ]
  },
  {
   "cell_type": "markdown",
   "metadata": {},
   "source": [
    "### Best LSTM"
   ]
  },
  {
   "cell_type": "code",
   "execution_count": 56,
   "metadata": {},
   "outputs": [
    {
     "name": "stdout",
     "output_type": "stream",
     "text": [
      "Model: \"sequential_5\"\n",
      "_________________________________________________________________\n",
      "Layer (type)                 Output Shape              Param #   \n",
      "=================================================================\n",
      "embedding_5 (Embedding)      (None, 2048, 16)          301856    \n",
      "_________________________________________________________________\n",
      "spatial_dropout1d_4 (Spatial (None, 2048, 16)          0         \n",
      "_________________________________________________________________\n",
      "lstm_4 (LSTM)                (None, 16)                2112      \n",
      "_________________________________________________________________\n",
      "dropout_4 (Dropout)          (None, 16)                0         \n",
      "_________________________________________________________________\n",
      "dense_5 (Dense)              (None, 1)                 17        \n",
      "=================================================================\n",
      "Total params: 303,985\n",
      "Trainable params: 303,985\n",
      "Non-trainable params: 0\n",
      "_________________________________________________________________\n"
     ]
    }
   ],
   "source": [
    "## best lstm model with epoch 5\n",
    "m_ls = Sequential()\n",
    "m_ls.add(Embedding(input_dim = 18866, output_dim = 16, input_length = 2048))\n",
    "m_ls.add(SpatialDropout1D(0.5))\n",
    "m_ls.add(LSTM(units = 16, recurrent_dropout = 0.5))\n",
    "m_ls.add(Dropout(0.5))\n",
    "m_ls.add(Dense(units = 1, activation = 'sigmoid'))\n",
    "m_ls.compile(loss = \"binary_crossentropy\", optimizer = \"adam\", metrics = ['accuracy'])\n",
    "m_ls.summary()"
   ]
  },
  {
   "cell_type": "code",
   "execution_count": 57,
   "metadata": {},
   "outputs": [],
   "source": [
    "# split 80% train and 20% test data\n",
    "X_train, X_test, y_train, y_test = train_test_split(data, y_label, test_size=0.2, random_state=42)"
   ]
  },
  {
   "cell_type": "code",
   "execution_count": 58,
   "metadata": {},
   "outputs": [
    {
     "name": "stdout",
     "output_type": "stream",
     "text": [
      "Epoch 1/5\n",
      "WARNING:tensorflow:Model was constructed with shape (None, 2048) for input KerasTensor(type_spec=TensorSpec(shape=(None, 2048), dtype=tf.float32, name='embedding_5_input'), name='embedding_5_input', description=\"created by layer 'embedding_5_input'\"), but it was called on an input with incompatible shape (None, 1024).\n",
      "WARNING:tensorflow:Model was constructed with shape (None, 2048) for input KerasTensor(type_spec=TensorSpec(shape=(None, 2048), dtype=tf.float32, name='embedding_5_input'), name='embedding_5_input', description=\"created by layer 'embedding_5_input'\"), but it was called on an input with incompatible shape (None, 1024).\n",
      "63/63 [==============================] - ETA: 0s - loss: 0.6917 - accuracy: 0.5413WARNING:tensorflow:Model was constructed with shape (None, 2048) for input KerasTensor(type_spec=TensorSpec(shape=(None, 2048), dtype=tf.float32, name='embedding_5_input'), name='embedding_5_input', description=\"created by layer 'embedding_5_input'\"), but it was called on an input with incompatible shape (None, 1024).\n",
      "63/63 [==============================] - 53s 767ms/step - loss: 0.6916 - accuracy: 0.5420 - val_loss: 0.6670 - val_accuracy: 0.7535\n",
      "Epoch 2/5\n",
      "63/63 [==============================] - 45s 708ms/step - loss: 0.6182 - accuracy: 0.7268 - val_loss: 0.4492 - val_accuracy: 0.8205\n",
      "Epoch 3/5\n",
      "63/63 [==============================] - 45s 709ms/step - loss: 0.4230 - accuracy: 0.8377 - val_loss: 0.3925 - val_accuracy: 0.8240\n",
      "Epoch 4/5\n",
      "63/63 [==============================] - 45s 717ms/step - loss: 0.3435 - accuracy: 0.8755 - val_loss: 0.3876 - val_accuracy: 0.8260\n",
      "Epoch 5/5\n",
      "63/63 [==============================] - 45s 718ms/step - loss: 0.3144 - accuracy: 0.8874 - val_loss: 0.4063 - val_accuracy: 0.8305\n"
     ]
    }
   ],
   "source": [
    "h_ls = m_ls.fit(X_train, y_train, validation_data=(X_test, y_test), epochs=5, batch_size=128)"
   ]
  },
  {
   "cell_type": "code",
   "execution_count": 59,
   "metadata": {},
   "outputs": [
    {
     "data": {
      "image/png": "[encoded data removed]",
      "text/plain": [
       "<Figure size 864x360 with 2 Axes>"
      ]
     },
     "metadata": {},
     "output_type": "display_data"
    }
   ],
   "source": [
    "plot_history(h_ls)\n"
   ]
  },
  {
   "cell_type": "code",
   "execution_count": 60,
   "metadata": {},
   "outputs": [
    {
     "name": "stdout",
     "output_type": "stream",
     "text": [
      "WARNING:tensorflow:Model was constructed with shape (None, 2048) for input KerasTensor(type_spec=TensorSpec(shape=(None, 2048), dtype=tf.float32, name='embedding_5_input'), name='embedding_5_input', description=\"created by layer 'embedding_5_input'\"), but it was called on an input with incompatible shape (32, 1024).\n",
      "Training Accuracy: 0.9261\n",
      "Testing Accuracy:  0.8305\n"
     ]
    }
   ],
   "source": [
    "loss, accuracy = m_ls.evaluate(X_train, y_train, verbose=False)\n",
    "print(\"Training Accuracy: {:.4f}\".format(accuracy))\n",
    "loss, accuracy = m_ls.evaluate(X_test, y_test, verbose=False)\n",
    "print(\"Testing Accuracy:  {:.4f}\".format(accuracy))"
   ]
  },
  {
   "cell_type": "code",
   "execution_count": 61,
   "metadata": {},
   "outputs": [
    {
     "name": "stdout",
     "output_type": "stream",
     "text": [
      "WARNING:tensorflow:Model was constructed with shape (None, 2048) for input KerasTensor(type_spec=TensorSpec(shape=(None, 2048), dtype=tf.float32, name='embedding_5_input'), name='embedding_5_input', description=\"created by layer 'embedding_5_input'\"), but it was called on an input with incompatible shape (None, 1024).\n"
     ]
    }
   ],
   "source": [
    "ls_pred = (m_ls.predict(X_test) > 0.5).astype(\"int32\")"
   ]
  },
  {
   "cell_type": "code",
   "execution_count": 62,
   "metadata": {},
   "outputs": [
    {
     "name": "stdout",
     "output_type": "stream",
     "text": [
      "ls_result: \n",
      "               precision    recall  f1-score   support\n",
      "\n",
      "           0       0.83      0.83      0.83      1012\n",
      "           1       0.83      0.83      0.83       988\n",
      "\n",
      "    accuracy                           0.83      2000\n",
      "   macro avg       0.83      0.83      0.83      2000\n",
      "weighted avg       0.83      0.83      0.83      2000\n",
      "\n"
     ]
    }
   ],
   "source": [
    "ls_report = classification_report(y_test, ls_pred)\n",
    "print('ls_result: \\n', ls_report)"
   ]
  },
  {
   "cell_type": "code",
   "execution_count": 63,
   "metadata": {},
   "outputs": [
    {
     "name": "stdout",
     "output_type": "stream",
     "text": [
      "WARNING:tensorflow:Model was constructed with shape (None, 2048) for input KerasTensor(type_spec=TensorSpec(shape=(None, 2048), dtype=tf.float32, name='embedding_5_input'), name='embedding_5_input', description=\"created by layer 'embedding_5_input'\"), but it was called on an input with incompatible shape (32, 1024).\n"
     ]
    }
   ],
   "source": [
    "ls_train = (m_ls.predict(X_train) > 0.5).astype(\"int32\")"
   ]
  },
  {
   "cell_type": "code",
   "execution_count": 64,
   "metadata": {},
   "outputs": [
    {
     "name": "stdout",
     "output_type": "stream",
     "text": [
      "ls_result: \n",
      "               precision    recall  f1-score   support\n",
      "\n",
      "           0       0.93      0.92      0.93      3988\n",
      "           1       0.92      0.93      0.93      4012\n",
      "\n",
      "    accuracy                           0.93      8000\n",
      "   macro avg       0.93      0.93      0.93      8000\n",
      "weighted avg       0.93      0.93      0.93      8000\n",
      "\n"
     ]
    }
   ],
   "source": [
    "ls_report_train = classification_report(y_train, ls_train)\n",
    "print('ls_result: \\n', ls_report_train)"
   ]
  },
  {
   "cell_type": "markdown",
   "metadata": {},
   "source": [
    "### Best simpleRNN"
   ]
  },
  {
   "cell_type": "code",
   "execution_count": 65,
   "metadata": {},
   "outputs": [
    {
     "name": "stdout",
     "output_type": "stream",
     "text": [
      "Model: \"sequential_6\"\n",
      "_________________________________________________________________\n",
      "Layer (type)                 Output Shape              Param #   \n",
      "=================================================================\n",
      "embedding_6 (Embedding)      (None, 2048, 32)          603712    \n",
      "_________________________________________________________________\n",
      "spatial_dropout1d_5 (Spatial (None, 2048, 32)          0         \n",
      "_________________________________________________________________\n",
      "simple_rnn_1 (SimpleRNN)     (None, 32)                2080      \n",
      "_________________________________________________________________\n",
      "dropout_5 (Dropout)          (None, 32)                0         \n",
      "_________________________________________________________________\n",
      "dense_6 (Dense)              (None, 1)                 33        \n",
      "=================================================================\n",
      "Total params: 605,825\n",
      "Trainable params: 605,825\n",
      "Non-trainable params: 0\n",
      "_________________________________________________________________\n"
     ]
    }
   ],
   "source": [
    "# fifth model - simple RNN\n",
    "\n",
    "m_sr = Sequential()\n",
    "m_sr.add(Embedding(input_dim = 18866, output_dim = 32, input_length = 2048))\n",
    "m_sr.add(SpatialDropout1D(0.5))\n",
    "m_sr.add(SimpleRNN(units = 32, activation = 'relu'))\n",
    "m_sr.add(Dropout(0.5))\n",
    "m_sr.add(Dense(units = 1, activation = 'sigmoid'))\n",
    "m_sr.compile(loss = \"binary_crossentropy\", optimizer = \"adam\", metrics = ['accuracy'])\n",
    "m_sr.summary()"
   ]
  },
  {
   "cell_type": "code",
   "execution_count": 66,
   "metadata": {},
   "outputs": [],
   "source": [
    "# split 80% train and 20% test data\n",
    "X_train, X_test, y_train, y_test = train_test_split(data, y_label, test_size=0.2, random_state=42)"
   ]
  },
  {
   "cell_type": "code",
   "execution_count": 67,
   "metadata": {},
   "outputs": [
    {
     "name": "stdout",
     "output_type": "stream",
     "text": [
      "Epoch 1/4\n",
      "WARNING:tensorflow:Model was constructed with shape (None, 2048) for input KerasTensor(type_spec=TensorSpec(shape=(None, 2048), dtype=tf.float32, name='embedding_6_input'), name='embedding_6_input', description=\"created by layer 'embedding_6_input'\"), but it was called on an input with incompatible shape (None, 1024).\n",
      "WARNING:tensorflow:Model was constructed with shape (None, 2048) for input KerasTensor(type_spec=TensorSpec(shape=(None, 2048), dtype=tf.float32, name='embedding_6_input'), name='embedding_6_input', description=\"created by layer 'embedding_6_input'\"), but it was called on an input with incompatible shape (None, 1024).\n",
      "63/63 [==============================] - ETA: 0s - loss: 0.6936 - accuracy: 0.4996WARNING:tensorflow:Model was constructed with shape (None, 2048) for input KerasTensor(type_spec=TensorSpec(shape=(None, 2048), dtype=tf.float32, name='embedding_6_input'), name='embedding_6_input', description=\"created by layer 'embedding_6_input'\"), but it was called on an input with incompatible shape (None, 1024).\n",
      "63/63 [==============================] - 20s 268ms/step - loss: 0.6936 - accuracy: 0.4999 - val_loss: 0.6883 - val_accuracy: 0.5705\n",
      "Epoch 2/4\n",
      "63/63 [==============================] - 16s 259ms/step - loss: 0.6783 - accuracy: 0.5909 - val_loss: 0.5859 - val_accuracy: 0.7590\n",
      "Epoch 3/4\n",
      "63/63 [==============================] - 16s 260ms/step - loss: 0.5524 - accuracy: 0.7554 - val_loss: 0.4341 - val_accuracy: 0.8120\n",
      "Epoch 4/4\n",
      "63/63 [==============================] - 16s 260ms/step - loss: 0.3973 - accuracy: 0.8397 - val_loss: 0.4064 - val_accuracy: 0.8185\n"
     ]
    }
   ],
   "source": [
    "h_sr = m_sr.fit(X_train, y_train.reshape(8000,1), validation_data=(X_test, y_test.reshape(2000,1)), epochs=4, batch_size=128)"
   ]
  },
  {
   "cell_type": "code",
   "execution_count": 68,
   "metadata": {},
   "outputs": [
    {
     "data": {
      "image/png": "[encoded data removed]",
      "text/plain": [
       "<Figure size 864x360 with 2 Axes>"
      ]
     },
     "metadata": {},
     "output_type": "display_data"
    }
   ],
   "source": [
    "plot_history(h_sr)"
   ]
  },
  {
   "cell_type": "code",
   "execution_count": 69,
   "metadata": {},
   "outputs": [
    {
     "name": "stdout",
     "output_type": "stream",
     "text": [
      "WARNING:tensorflow:Model was constructed with shape (None, 2048) for input KerasTensor(type_spec=TensorSpec(shape=(None, 2048), dtype=tf.float32, name='embedding_6_input'), name='embedding_6_input', description=\"created by layer 'embedding_6_input'\"), but it was called on an input with incompatible shape (32, 1024).\n",
      "Training Accuracy: 0.9036\n",
      "WARNING:tensorflow:Model was constructed with shape (None, 2048) for input KerasTensor(type_spec=TensorSpec(shape=(None, 2048), dtype=tf.float32, name='embedding_6_input'), name='embedding_6_input', description=\"created by layer 'embedding_6_input'\"), but it was called on an input with incompatible shape (None, 1024).\n",
      "Testing Accuracy:  0.8185\n"
     ]
    }
   ],
   "source": [
    "loss, accuracy = m_sr.evaluate(X_train, y_train, verbose=False)\n",
    "print(\"Training Accuracy: {:.4f}\".format(accuracy))\n",
    "loss, accuracy = m_sr.evaluate(X_test, y_test, verbose=False)\n",
    "print(\"Testing Accuracy:  {:.4f}\".format(accuracy))"
   ]
  },
  {
   "cell_type": "code",
   "execution_count": 70,
   "metadata": {},
   "outputs": [
    {
     "name": "stdout",
     "output_type": "stream",
     "text": [
      "WARNING:tensorflow:Model was constructed with shape (None, 2048) for input KerasTensor(type_spec=TensorSpec(shape=(None, 2048), dtype=tf.float32, name='embedding_6_input'), name='embedding_6_input', description=\"created by layer 'embedding_6_input'\"), but it was called on an input with incompatible shape (None, 1024).\n"
     ]
    }
   ],
   "source": [
    "sr_pred = (m_sr.predict(X_test) > 0.5).astype(\"int32\")"
   ]
  },
  {
   "cell_type": "code",
   "execution_count": 71,
   "metadata": {},
   "outputs": [
    {
     "name": "stdout",
     "output_type": "stream",
     "text": [
      "ls_result: \n",
      "               precision    recall  f1-score   support\n",
      "\n",
      "           0       0.82      0.83      0.82      1012\n",
      "           1       0.82      0.81      0.81       988\n",
      "\n",
      "    accuracy                           0.82      2000\n",
      "   macro avg       0.82      0.82      0.82      2000\n",
      "weighted avg       0.82      0.82      0.82      2000\n",
      "\n"
     ]
    }
   ],
   "source": [
    "sr_report = classification_report(y_test, sr_pred)\n",
    "print('ls_result: \\n', sr_report)"
   ]
  },
  {
   "cell_type": "code",
   "execution_count": 72,
   "metadata": {},
   "outputs": [
    {
     "name": "stdout",
     "output_type": "stream",
     "text": [
      "WARNING:tensorflow:Model was constructed with shape (None, 2048) for input KerasTensor(type_spec=TensorSpec(shape=(None, 2048), dtype=tf.float32, name='embedding_6_input'), name='embedding_6_input', description=\"created by layer 'embedding_6_input'\"), but it was called on an input with incompatible shape (32, 1024).\n"
     ]
    }
   ],
   "source": [
    "sr_train = (m_sr.predict(X_train) > 0.5).astype(\"int32\")"
   ]
  },
  {
   "cell_type": "code",
   "execution_count": 73,
   "metadata": {},
   "outputs": [
    {
     "name": "stdout",
     "output_type": "stream",
     "text": [
      "ls_result_train: \n",
      "               precision    recall  f1-score   support\n",
      "\n",
      "           0       0.90      0.90      0.90      3988\n",
      "           1       0.90      0.91      0.90      4012\n",
      "\n",
      "    accuracy                           0.90      8000\n",
      "   macro avg       0.90      0.90      0.90      8000\n",
      "weighted avg       0.90      0.90      0.90      8000\n",
      "\n"
     ]
    }
   ],
   "source": [
    "sr_report_train = classification_report(y_train, sr_train)\n",
    "print('ls_result_train: \\n', sr_report_train)"
   ]
  },
  {
   "cell_type": "code",
   "execution_count": null,
   "metadata": {},
   "outputs": [],
   "source": []
  },
  {
   "cell_type": "code",
   "execution_count": null,
   "metadata": {},
   "outputs": [],
   "source": []
  },
  {
   "cell_type": "code",
   "execution_count": null,
   "metadata": {},
   "outputs": [],
   "source": []
  }
 ],
 "metadata": {
  "kernelspec": {
   "display_name": "Python 3",
   "language": "python",
   "name": "python3"
  },
  "language_info": {
   "codemirror_mode": {
    "name": "ipython",
    "version": 3
   },
   "file_extension": ".py",
   "mimetype": "text/x-python",
   "name": "python",
   "nbconvert_exporter": "python",
   "pygments_lexer": "ipython3",
   "version": "3.9.1"
  }
 },
 "nbformat": 4,
 "nbformat_minor": 4
}
